{
 "cells": [
  {
   "cell_type": "code",
   "execution_count": 7,
   "metadata": {},
   "outputs": [],
   "source": [
    "import numpy as np\n",
    "import seaborn as sns; sns.set()\n",
    "import matplotlib as mpl\n",
    "import matplotlib.pyplot as plt\n",
    "\n",
    "plt.rcParams['figure.figsize'] = [12, 10]\n",
    "\n",
    "font = {'size'   : 15, }\n",
    "axes = {'labelsize': 'large', 'titlesize': 'large'}\n",
    "\n",
    "mpl.rc('font', **font)\n",
    "mpl.rc('axes', **axes)\n",
    "\n",
    "import pandas as pd\n",
    "import data_utils\n"
   ]
  },
  {
   "cell_type": "code",
   "execution_count": 19,
   "metadata": {},
   "outputs": [],
   "source": [
    "# Paths to data csvs\n",
    "wd = \"/home/behzad/Documents/barnes_lab/cplusplus_software/speed_test/repressilator/cpp\"\n",
    "data_dir = wd + \"/output/two_species_big_3/Population_0\"\n",
    "distances_path = data_dir + \"/distances.csv\"\n",
    "eigenvalues_path = data_dir + \"/eigenvalues_do_fsolve_state.csv\"\n",
    "model_space_report_path = data_dir + \"/model_space_report.csv\"\n",
    "\n",
    "# Load dataframes\n",
    "distances_df = pd.read_csv(distances_path)\n",
    "eigenvalues_df = pd.read_csv(eigenvalues_path)\n",
    "\n",
    "# Make distances numeric\n",
    "distances_df = data_utils.distances_pre_processing(distances_df)"
   ]
  },
  {
   "cell_type": "code",
   "execution_count": 20,
   "metadata": {},
   "outputs": [],
   "source": [
    "# Join eigenvalues and distances on the simulation index, batch number and model_ref\n",
    "joint_df = pd.merge(left=eigenvalues_df, right=distances_df, how='inner', on=['sim_idx', 'batch_num', 'model_ref'])\n",
    "joint_df.reset_index()\n",
    "\n",
    "# Add columns indicating check results and summary stats\n",
    "joint_df = data_utils.species_sustained(joint_df)\n",
    "joint_df = data_utils.make_max_eig(joint_df)\n",
    "join_df = data_utils.make_sum_eig(joint_df)\n",
    "joint_df = data_utils.all_negative_eigs(joint_df)\n",
    "joint_df = data_utils.all_real_eigs(joint_df)\n",
    "joint_df = data_utils.all_positive_eigs(joint_df)\n",
    "joint_df['sum_std'] = joint_df['d2'] + joint_df['d5']\n",
    "joint_df['sum_grad'] = joint_df['d1'] + joint_df['d4']\n",
    "\n",
    "# Set accepted or rejected particles\n",
    "mask = (joint_df['d1'] < 100) & (joint_df['d2'] < 10) & (joint_df['d3'] > 0) & (joint_df['d4'] < 100) & (joint_df['d5'] < 10) & (joint_df['d6'] > 0)\n",
    "joint_df.loc[mask, 'Accepted'] = True\n",
    "joint_df.loc[~mask, 'Accepted'] = False"
   ]
  },
  {
   "cell_type": "code",
   "execution_count": 21,
   "metadata": {},
   "outputs": [],
   "source": [
    "def generate_input_data(df):\n",
    "    # Model 30 has 5 eigenlvaues, 0 to 4\n",
    "    eig_cols = [x for x in df.columns if 'eig' in x][0: 10]\n",
    "    real_eig_cols = [x for x in eig_cols if 'real' in x]\n",
    "    imag_eig_cols = [x for x in eig_cols if 'imag' in x]\n",
    "    \n",
    "    all_inputs = []\n",
    "    all_labels = []\n",
    "\n",
    "    for index, row in df.iterrows():\n",
    "        input_set = []\n",
    "        for idx, i in enumerate(real_eig_cols):\n",
    "            \n",
    "            input_set.append(row[real_eig_cols[idx]])\n",
    "            input_set.append(row[imag_eig_cols[idx]])\n",
    "\n",
    "        illegal = [True for val in input_set if np.isnan(val)]\n",
    "\n",
    "        if True in illegal:\n",
    "            continue\n",
    "\n",
    "        all_inputs.append(input_set)\n",
    "\n",
    "        label = None\n",
    "        if row['Accepted']:\n",
    "            label = 1\n",
    "\n",
    "        else:\n",
    "            label = 0\n",
    "\n",
    "        all_labels.append(label)\n",
    "\n",
    "\n",
    "    illegal_inputs = []\n",
    "    for idx, row in enumerate(all_inputs):\n",
    "        for val in row:\n",
    "            if np.isnan(val):\n",
    "                print(val)\n",
    "                illegal_inputs.append(idx)\n",
    "    \n",
    "    return all_inputs, all_labels\n"
   ]
  },
  {
   "cell_type": "code",
   "execution_count": 24,
   "metadata": {},
   "outputs": [
    {
     "name": "stdout",
     "output_type": "stream",
     "text": [
      "[0.06706739 0.00076426 0.10689253 0.0008075  0.05531696 0.70490433\n",
      " 0.00360705 0.         0.06063998 0.        ]\n",
      "3298\n",
      "1655\n"
     ]
    }
   ],
   "source": [
    "from sklearn.model_selection import train_test_split\n",
    "train_df, test_df = train_test_split(joint_df, test_size=0.2)\n",
    "\n",
    "train_inputs, train_labels = generate_input_data(train_df)    \n",
    "\n",
    "from sklearn import tree\n",
    "clf = tree.DecisionTreeClassifier()\n",
    "clf = clf.fit(train_inputs, train_labels)\n",
    "\n",
    "print(clf.feature_importances_)\n",
    "\n",
    "test_inputs, test_labels = generate_input_data(test_df)    \n",
    "print(len(test_labels))\n",
    "\n",
    "pred = clf.predict(test_inputs)\n",
    "\n",
    "diff = 0\n",
    "for idx, i in enumerate(test_labels):\n",
    "    if pred[i] - i == 0:\n",
    "        continue\n",
    "\n",
    "    else:\n",
    "        diff +=1\n",
    "        \n",
    "print(diff)\n"
   ]
  },
  {
   "cell_type": "code",
   "execution_count": 25,
   "metadata": {},
   "outputs": [
    {
     "name": "stdout",
     "output_type": "stream",
     "text": [
      "['eig_0_real', 'eig_0_imag', 'eig_1_real', 'eig_1_imag', 'eig_2_real', 'eig_2_imag', 'eig_3_real', 'eig_3_imag', 'eig_4_real', 'eig_4_imag']\n"
     ]
    },
    {
     "data": {
      "text/plain": [
       "'a.pdf'"
      ]
     },
     "execution_count": 25,
     "metadata": {},
     "output_type": "execute_result"
    }
   ],
   "source": [
    "import graphviz\n",
    "\n",
    "eig_cols = [x for x in joint_df.columns if 'eig' in x][0:10]\n",
    "\n",
    "\n",
    "print(eig_cols)\n",
    "dot_data = tree.export_graphviz(clf, out_file=None, \n",
    "                                feature_names=eig_cols,\n",
    "                                filled=True, rounded=True)  \n",
    "\n",
    "graph = graphviz.Source(dot_data) \n",
    "graph.render(\"a\")\n"
   ]
  },
  {
   "cell_type": "code",
   "execution_count": null,
   "metadata": {},
   "outputs": [],
   "source": []
  },
  {
   "cell_type": "code",
   "execution_count": null,
   "metadata": {},
   "outputs": [],
   "source": []
  }
 ],
 "metadata": {
  "kernelspec": {
   "display_name": "Python 3",
   "language": "python",
   "name": "python3"
  },
  "language_info": {
   "codemirror_mode": {
    "name": "ipython",
    "version": 3
   },
   "file_extension": ".py",
   "mimetype": "text/x-python",
   "name": "python",
   "nbconvert_exporter": "python",
   "pygments_lexer": "ipython3",
   "version": "3.6.7"
  }
 },
 "nbformat": 4,
 "nbformat_minor": 2
}
