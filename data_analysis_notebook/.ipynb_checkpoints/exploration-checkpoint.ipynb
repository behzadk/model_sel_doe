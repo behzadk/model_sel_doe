{
 "cells": [
  {
   "cell_type": "code",
   "execution_count": null,
   "metadata": {},
   "outputs": [],
   "source": [
    "# Imports\n",
    "import numpy as np\n",
    "import numpy as np\n",
    "import seaborn as sns; sns.set()\n",
    "import matplotlib.pyplot as plt\n",
    "import pandas as pd\n"
   ]
  },
  {
   "cell_type": "code",
   "execution_count": 3,
   "metadata": {},
   "outputs": [],
   "source": [
    "# Set data paths\n",
    "data_dir = \"./output/two_species_big_3/Population_0\"\n",
    "distances_path = data_dir + \"/distances.csv\"\n",
    "eigenvalues_path = data_dir + \"/eigenvalues.csv\"\n",
    "model_space_report_path = data_dir + \"/model_space_report.csv\""
   ]
  },
  {
   "cell_type": "code",
   "execution_count": null,
   "metadata": {},
   "outputs": [],
   "source": [
    "# Load dataframes\n",
    "distaces_df = pd.read_csv(distances_path)\n",
    "eigenvalues_df = pd.read_csv(eigenvalues_path)\n",
    "\n",
    "# Preprocessing to make distances numeric\n",
    "distaces_df = distances_pre_processing(distaces_df)\n"
   ]
  }
 ],
 "metadata": {
  "kernelspec": {
   "display_name": "Python 3",
   "language": "python",
   "name": "python3"
  },
  "language_info": {
   "codemirror_mode": {
    "name": "ipython",
    "version": 3
   },
   "file_extension": ".py",
   "mimetype": "text/x-python",
   "name": "python",
   "nbconvert_exporter": "python",
   "pygments_lexer": "ipython3",
   "version": "3.6.7"
  }
 },
 "nbformat": 4,
 "nbformat_minor": 2
}
